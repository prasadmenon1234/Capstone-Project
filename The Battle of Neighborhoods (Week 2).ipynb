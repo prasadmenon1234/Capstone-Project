{
 "cells": [
  {
   "cell_type": "code",
   "execution_count": null,
   "id": "c5340aa1-bfa1-41ce-9691-204f1b59a72c",
   "metadata": {},
   "outputs": [
    {
     "name": "stdout",
     "output_type": "stream",
     "text": [
      "Collecting beautifulsoup4\n"
     ]
    }
   ],
   "source": [
    "pip install beautifulsoup4"
   ]
  },
  {
   "cell_type": "code",
   "execution_count": null,
   "id": "f9b12267-93a8-4e33-8c06-b202977a54ee",
   "metadata": {},
   "outputs": [],
   "source": [
    "pip install requests"
   ]
  },
  {
   "cell_type": "code",
   "execution_count": null,
   "id": "25b73910-f9a7-48ae-9737-ba925d288633",
   "metadata": {},
   "outputs": [],
   "source": [
    "pip install folium==0.5.0"
   ]
  },
  {
   "cell_type": "code",
   "execution_count": null,
   "id": "b540b230-ae43-4192-8ec1-acdc4f3081bd",
   "metadata": {},
   "outputs": [],
   "source": [
    "pip install geocoder"
   ]
  },
  {
   "cell_type": "code",
   "execution_count": null,
   "id": "5d6181f4-3da3-4cf0-8c4e-2e9a987ae911",
   "metadata": {},
   "outputs": [],
   "source": [
    "pip install geopy"
   ]
  },
  {
   "cell_type": "code",
   "execution_count": null,
   "id": "9b0ab35c-7b09-4418-9637-e5afbff8e4ff",
   "metadata": {},
   "outputs": [],
   "source": [
    "# All libraries which are required for analysis\n",
    "\n",
    "import numpy as np\n",
    "import pandas as pd\n",
    "from pandas.io.json import json_normalize\n",
    "\n",
    "from geopy.geocoders import Nominatim\n",
    "import urllib.request\n",
    "import json\n",
    "from bs4 import BeautifulSoup\n",
    "from urllib.request import urlopen\n",
    "import requests\n",
    "\n",
    "from sklearn.cluster import KMeans\n",
    "import folium\n",
    "import matplotlib.cm as cm\n",
    "import matplotlib.colors as colors\n",
    "import matplotlib.pyplot as plt\n",
    "%matplotlib inline"
   ]
  },
  {
   "cell_type": "markdown",
   "id": "b1b04bda-9315-4d4c-b5cf-2c08cb75a1d5",
   "metadata": {},
   "source": [
    "## Scraping the Wikipedia page for the table of postal codes of Canada"
   ]
  },
  {
   "cell_type": "code",
   "execution_count": null,
   "id": "3602270f-fbb5-4439-825a-d5a3923b960a",
   "metadata": {},
   "outputs": [],
   "source": [
    "toronto_neigh_data = requests.get('https://en.wikipedia.org/wiki/List_of_postal_codes_of_Canada:_M').text\n",
    "soup=BeautifulSoup(toronto_neigh_data, \"html.parser\")\n",
    "print(soup.title)\n",
    "table_contents=[]\n",
    "table=soup.find('table')\n",
    "for row in table.findAll('td'):\n",
    "    cell = {}\n",
    "    if row.span.text=='Not assigned':\n",
    "        pass\n",
    "    else:\n",
    "        cell['PostalCode'] = row.p.text[:3]\n",
    "        cell['Borough'] = (row.span.text).split('(')[0]\n",
    "        cell['Neighborhood'] = (((((row.span.text).split('(')[1]).strip(')')).replace(' /',',')).replace(')',' ')).strip(' ')\n",
    "        table_contents.append(cell)"
   ]
  },
  {
   "cell_type": "markdown",
   "id": "8803af63-a068-4884-a26a-f735cdbdf9b8",
   "metadata": {},
   "source": [
    "## The Postal Code table contents"
   ]
  },
  {
   "cell_type": "code",
   "execution_count": null,
   "id": "0b5ede36-2afd-42da-bc65-74e3ca58dac8",
   "metadata": {},
   "outputs": [],
   "source": [
    "\n",
    "df=pd.DataFrame(table_contents)\n",
    "\n",
    "# Dropping the rows where Borough is 'Not assigned'\n",
    "df = df[df.Borough != 'Not assigned']\n",
    "\n",
    "# Replacing the long name of the Boroughs with shorter names of Borough\n",
    "df['Borough'] = df['Borough'].replace({'Downtown TorontoStn A PO Boxes25 The Esplanade':'Downtown Toronto Stn A',\n",
    "                                             'East TorontoBusiness reply mail Processing Centre969 Eastern':'East Toronto Business',\n",
    "                                             'EtobicokeNorthwest':'Etobicoke Northwest','East YorkEast Toronto':'East York/East Toronto',\n",
    "                                             'MississaugaCanada Post Gateway Processing Centre':'Mississauga'})\n",
    "df"
   ]
  },
  {
   "cell_type": "markdown",
   "id": "46d3d650-6944-4edd-9ea7-798e0045b84b",
   "metadata": {},
   "source": [
    "## Neighbourhoods of Toronto"
   ]
  },
  {
   "cell_type": "code",
   "execution_count": null,
   "id": "002fd68d-ade1-49cd-b8f5-99c2251f77e8",
   "metadata": {},
   "outputs": [],
   "source": [
    "lat_lon = pd.read_csv('/resources/1_Capstone/Geospatial_Coordinates.csv')\n",
    "lat_lon.rename(columns={'Postal Code':'PostalCode'},inplace=True)\n",
    "toronto_neigh_lot_lon_df = pd.merge(df, lat_lon, on='PostalCode')\n",
    "df0 = toronto_neigh_lot_lon_df[toronto_neigh_lot_lon_df['Borough'].str.contains('Toronto', regex=False)]\n",
    "df0"
   ]
  },
  {
   "cell_type": "markdown",
   "id": "583329b8-1a7b-406a-8120-d53edff525e5",
   "metadata": {},
   "source": [
    "## Mapping the co-ordinates"
   ]
  },
  {
   "cell_type": "code",
   "execution_count": null,
   "id": "54cd99a3-a2a3-468e-a55e-d57435e076ef",
   "metadata": {},
   "outputs": [],
   "source": [
    "map_toronto = folium.Map(location=[43.6532,-79.33832],zoom_start=10)\n",
    "\n",
    "for lat,lng,borough,neighbourhood in zip(toronto_neigh_lot_lon_df['Latitude'],\n",
    "                                         toronto_neigh_lot_lon_df['Longitude'],\n",
    "                                         toronto_neigh_lot_lon_df['Borough'],\n",
    "                                         toronto_neigh_lot_lon_df['Neighborhood']):\n",
    "    label = '{}, {}'.format(neighbourhood, borough)\n",
    "    label = folium.Popup(label, parse_html=True)\n",
    "    folium.CircleMarker(\n",
    "    [lat,lng],\n",
    "    radius=5,\n",
    "    popup=label,\n",
    "    color='blue',\n",
    "    fill=True,\n",
    "    fill_color='#3186cc',\n",
    "    fill_opacity=0.7,\n",
    "    parse_html=False).add_to(map_toronto)\n",
    "map_toronto"
   ]
  },
  {
   "cell_type": "markdown",
   "id": "053d0030-c8c8-4005-b423-df57c4bf4644",
   "metadata": {},
   "source": [
    "# Foursquare "
   ]
  },
  {
   "cell_type": "code",
   "execution_count": null,
   "id": "f704a63a-ad3a-452f-b313-dee3d2896428",
   "metadata": {},
   "outputs": [],
   "source": [
    "import urllib\n",
    "def getNearbyVenues(names, latitudes, longitudes, radius=5000, categoryIds = ''):\n",
    "    try:\n",
    "        venues_list=[]\n",
    "        for name, lat, lng in zip(names, latitudes, longitudes):\n",
    "            #print(name)\n",
    "\n",
    "            # create the API request URL\n",
    "            url = 'https://api.foursquare.com/v2/venues/search?&client_id={}&client_secret={}&v={}&ll={},{}&radius={}&limit={}'.format(CLIENT_ID, CLIENT_SECRET, VERSION, lat, lng, radius, LIMIT)\n",
    "\n",
    "            if (categoryIds != ''):\n",
    "                url = url + '&categoryId={}'\n",
    "                url = url.format(categoryIds)\n",
    "\n",
    "            # make the GET request\n",
    "            response = requests.get(url).json()\n",
    "            results = response[\"response\"]['venues']\n",
    "\n",
    "            # return only relevant information for each nearby venue\n",
    "            for v in results:\n",
    "                success = False\n",
    "                try:\n",
    "                    category = v['categories'][0]['name']\n",
    "                    success = True\n",
    "                except:\n",
    "                    pass\n",
    "\n",
    "                if success:\n",
    "                    venues_list.append([(\n",
    "                        name, \n",
    "                        lat, \n",
    "                        lng, \n",
    "                        v['name'], \n",
    "                        v['location']['lat'], \n",
    "                        v['location']['lng'],\n",
    "                        v['categories'][0]['name']\n",
    "                    )])\n",
    "\n",
    "        nearby_venues = pd.DataFrame([item for venue_list in venues_list for item in venue_list])\n",
    "        nearby_venues.columns = ['Neighborhood', \n",
    "                  'Neighborhood Latitude', \n",
    "                  'Neighborhood Longitude', \n",
    "                  'Venue', \n",
    "                  'Venue Latitude', \n",
    "                  'Venue Longitude',  \n",
    "                  'Venue Category']\n",
    "    \n",
    "    except:\n",
    "        print(url)\n",
    "        print(response)\n",
    "        print(results)\n",
    "        print(nearby_venues)\n",
    "\n",
    "    return(nearby_venues)"
   ]
  },
  {
   "cell_type": "code",
   "execution_count": null,
   "id": "9ef75f29-0d06-4b17-9a86-a218627554c7",
   "metadata": {},
   "outputs": [],
   "source": [
    "LIMIT = 100 \n",
    "radius = 5000 \n",
    "CLIENT_ID = 'ZMHWBS0SR12Z3YDYVHJVTZPRK3U1ZP3I2TYQAJ5CU3JUHMB5'\n",
    "CLIENT_SECRET = 'H3TT0XT3P5TIAFCV1Y2UUVLF42N44DICNKLUELK34H2TKLFR'\n",
    "VERSION = '20181020'"
   ]
  },
  {
   "cell_type": "code",
   "execution_count": null,
   "id": "11ffce19-5c1a-4243-8cab-30b7bd21b578",
   "metadata": {},
   "outputs": [],
   "source": [
    "#https://developer.foursquare.com/docs/resources/categories \\ 4bf58dd8d48988d1d2941735\n",
    "Food = '4bf58dd8d48988d1cb941735' #food truck #'4d4b7105d754a06374d81259' Food\n",
    "df1=df0\n",
    "#df1 = df1[df1['Borough'] == 'Downtown Toronto'].reset_index(drop=True)\n",
    "toronto_venues_food = getNearbyVenues(names=df1['Neighborhood'], latitudes=df1['Latitude'], longitudes=df1['Longitude'], radius=5000, categoryIds=Food)\n",
    "toronto_venues_food.head()"
   ]
  },
  {
   "cell_type": "code",
   "execution_count": null,
   "id": "34f8af50-f106-4b9a-a150-61403b37ce4b",
   "metadata": {},
   "outputs": [],
   "source": [
    "def addToMap(df, color, existingMap):\n",
    "    for lat, lng, local, venue, venueCat in zip(df['Venue Latitude'], df['Venue Longitude'], df['Neighborhood'], df['Venue'], df['Venue Category']):\n",
    "        label = '{} ({}) - {}'.format(venue, venueCat, local)\n",
    "        label = folium.Popup(label, parse_html=True)\n",
    "        folium.CircleMarker(\n",
    "            [lat, lng],\n",
    "            radius=5,\n",
    "            popup=label,\n",
    "            color=color,\n",
    "            fill=True,\n",
    "            fill_color=color,\n",
    "            fill_opacity=0.7).add_to(existingMap)"
   ]
  },
  {
   "cell_type": "code",
   "execution_count": null,
   "id": "2f00022a-25c0-475e-b68e-71de632292f4",
   "metadata": {},
   "outputs": [],
   "source": [
    "map_toronto_food = folium.Map(location=[43.6532,-79.33832],zoom_start=10)\n",
    "addToMap(toronto_venues_food, 'red', map_toronto_food)\n",
    "\n",
    "map_toronto_food"
   ]
  },
  {
   "cell_type": "code",
   "execution_count": null,
   "id": "ee6b4368-0375-468b-af83-c53bf625178f",
   "metadata": {},
   "outputs": [],
   "source": [
    "def addColumn(startDf, columnTitle, dataDf):\n",
    "    grouped = dataDf.groupby('Neighborhood').count()\n",
    "    \n",
    "    for n in startDf['Neighborhood']:\n",
    "        try:\n",
    "            startDf.loc[startDf['Neighborhood'] == n,columnTitle] = grouped.loc[n, 'Venue']\n",
    "        except:\n",
    "            startDf.loc[startDf['Neighborhood'] == n,columnTitle] = 0"
   ]
  },
  {
   "cell_type": "code",
   "execution_count": null,
   "id": "a45f6e37-d438-4fc4-a014-fdd386aeafad",
   "metadata": {},
   "outputs": [],
   "source": [
    "down_town_grouped = toronto_venues_food.groupby('Neighborhood').count()\n",
    "down_town_grouped"
   ]
  },
  {
   "cell_type": "code",
   "execution_count": null,
   "id": "a676de35-140d-41be-8193-2ea540924c0f",
   "metadata": {},
   "outputs": [],
   "source": [
    "# one hot encoding\n",
    "down_town_onehot = pd.get_dummies(toronto_venues_food[['Venue Category']], prefix=\"\", prefix_sep=\"\")\n",
    "\n",
    "# add neighborhood column back to dataframe\n",
    "down_town_onehot['Neighborhood'] = toronto_venues_food['Neighborhood'] \n",
    "\n",
    "# move neighborhood column to the first column\n",
    "fixed_columns = [down_town_onehot.columns[-1]] + list(down_town_onehot.columns[:-1])\n",
    "down_town_onehot = down_town_onehot[fixed_columns]\n",
    "\n",
    "down_town_onehot.head()"
   ]
  },
  {
   "cell_type": "code",
   "execution_count": null,
   "id": "7db69ce9-9dce-4ea5-9caf-5ae8394a9e15",
   "metadata": {},
   "outputs": [],
   "source": [
    "down_town_grouped = down_town_onehot.groupby('Neighborhood').mean().reset_index()\n",
    "down_town_grouped"
   ]
  },
  {
   "cell_type": "code",
   "execution_count": null,
   "id": "7b745a14-31b9-4fdd-b4d1-89f42cbb2c81",
   "metadata": {},
   "outputs": [],
   "source": [
    "def return_most_common_venues(row, num_top_venues):\n",
    "    row_categories = row.iloc[1:]\n",
    "    row_categories_sorted = row_categories.sort_values(ascending=False)\n",
    "    \n",
    "    return row_categories_sorted.index.values[0:num_top_venues]"
   ]
  },
  {
   "cell_type": "code",
   "execution_count": null,
   "id": "914c1afc-e93c-4fd5-8a55-6659ca4dc69b",
   "metadata": {},
   "outputs": [],
   "source": [
    "num_top_venues = 4\n",
    "\n",
    "indicators = ['st', 'nd', 'rd']\n",
    "\n",
    "# create columns according to number of top venues\n",
    "columns = ['Neighborhood']\n",
    "for ind in np.arange(num_top_venues):\n",
    "    try:\n",
    "        columns.append('{}{} Most Common Venue'.format(ind+1, indicators[ind]))\n",
    "    except:\n",
    "        columns.append('{}th Most Common Venue'.format(ind+1))\n",
    "\n",
    "# create a new dataframe\n",
    "neighborhoods_venues_sorted = pd.DataFrame(columns=columns)\n",
    "neighborhoods_venues_sorted['Neighborhood'] = down_town_grouped['Neighborhood']\n",
    "\n",
    "for ind in np.arange(down_town_grouped.shape[0]):\n",
    "    neighborhoods_venues_sorted.iloc[ind, 1:] = return_most_common_venues(down_town_grouped.iloc[ind, :], num_top_venues)\n",
    "\n",
    "neighborhoods_venues_sorted.head()"
   ]
  },
  {
   "cell_type": "code",
   "execution_count": null,
   "id": "aa2edb14-3441-4414-9209-6c19d90926ac",
   "metadata": {},
   "outputs": [],
   "source": [
    "neighborhoods_venues_sorted"
   ]
  },
  {
   "cell_type": "code",
   "execution_count": null,
   "id": "f3145e1d-a287-40a9-a72b-374a174f2c4c",
   "metadata": {},
   "outputs": [],
   "source": [
    "# set number of clusters\n",
    "kclusters = 4\n",
    "\n",
    "down_town_grouped_clustering = down_town_grouped.drop('Neighborhood', 1)\n",
    "\n",
    "# run k-means clustering\n",
    "kmeans = KMeans(n_clusters=kclusters, random_state=0).fit(down_town_grouped_clustering)\n",
    "\n",
    "# check cluster labels generated for each row in the dataframe\n",
    "kmeans.labels_[0:10]"
   ]
  },
  {
   "cell_type": "code",
   "execution_count": null,
   "id": "ba6ee9d6-cf33-4865-bfb3-10d7a32afd85",
   "metadata": {},
   "outputs": [],
   "source": [
    "# add clustering labels\n",
    "neighborhoods_venues_sorted.insert(0, 'Cluster Labels', kmeans.labels_)\n",
    "\n",
    "down_town_merged = df1\n",
    "down_town_merged = down_town_merged.join(neighborhoods_venues_sorted.set_index('Neighborhood'), on='Neighborhood')\n",
    "\n",
    "down_town_merged.head()"
   ]
  },
  {
   "cell_type": "code",
   "execution_count": null,
   "id": "ab12ea30-30a7-4b8a-bce2-1fc88fed5a30",
   "metadata": {
    "tags": []
   },
   "outputs": [],
   "source": [
    "# create map\n",
    "map_clusters = folium.Map(location=[43.651070,-79.347015], zoom_start=11)\n",
    "\n",
    "# set color scheme for the clusters\n",
    "x = np.arange(kclusters)\n",
    "ys = [i + x + (i*x)**2 for i in range(kclusters)]\n",
    "colors_array = cm.rainbow(np.linspace(0, 1, len(ys)))\n",
    "rainbow = [colors.rgb2hex(i) for i in colors_array]\n",
    "\n",
    "# add markers to the map\n",
    "markers_colors = []\n",
    "for lat, lon, poi, cluster in zip(down_town_merged['Latitude'], down_town_merged['Longitude'], down_town_merged['Neighborhood'], down_town_merged['Cluster Labels']):\n",
    "    label = folium.Popup(str(poi) + ' Cluster ' + str(cluster), parse_html=True)\n",
    "    folium.CircleMarker(\n",
    "        [lat, lon],\n",
    "        radius=5,\n",
    "        popup=label,\n",
    "        color=rainbow[cluster-1],\n",
    "        fill=True,\n",
    "        fill_color=rainbow[cluster-1],\n",
    "        fill_opacity=0.7).add_to(map_clusters)\n",
    "       \n",
    "map_clusters"
   ]
  },
  {
   "cell_type": "code",
   "execution_count": null,
   "id": "d4948b95-dabf-47cb-be61-433d8cceb754",
   "metadata": {},
   "outputs": [],
   "source": [
    "X1=down_town_merged.loc[down_town_merged['Cluster Labels'] == 0, down_town_merged.columns[[1]+[2] + list(range(5, down_town_merged.shape[1]))]]\n",
    "X1"
   ]
  },
  {
   "cell_type": "code",
   "execution_count": null,
   "id": "59717258-d6a3-4614-a250-2ac35efa6a95",
   "metadata": {},
   "outputs": [],
   "source": [
    "X2=down_town_merged.loc[down_town_merged['Cluster Labels'] == 1, down_town_merged.columns[[1]+[2] + list(range(5, down_town_merged.shape[1]))]]\n",
    "X2"
   ]
  },
  {
   "cell_type": "code",
   "execution_count": null,
   "id": "54ac9e42-9ee7-4ef0-b797-7b6441f4990f",
   "metadata": {},
   "outputs": [],
   "source": [
    "X3=down_town_merged.loc[down_town_merged['Cluster Labels'] == 2, down_town_merged.columns[[1] +[2]+ list(range(5, down_town_merged.shape[1]))]]\n",
    "X3"
   ]
  },
  {
   "cell_type": "code",
   "execution_count": null,
   "id": "d1aa3ce4-22a1-4cd5-bdb5-5253c263aad1",
   "metadata": {},
   "outputs": [],
   "source": [
    "X4=down_town_merged.loc[down_town_merged['Cluster Labels'] == 3, down_town_merged.columns[[1]+[2] + list(range(5, down_town_merged.shape[1]))]]\n",
    "X4"
   ]
  },
  {
   "cell_type": "code",
   "execution_count": null,
   "id": "2d9107d0-5a0b-4fca-b3b4-47aa37ef97a9",
   "metadata": {},
   "outputs": [],
   "source": [
    "Y0=down_town_merged.groupby('Borough').count()\n",
    "x0=Y0['Neighborhood']\n",
    "x0"
   ]
  },
  {
   "cell_type": "code",
   "execution_count": null,
   "id": "3b215169-cbaa-42a6-9250-a4e201203418",
   "metadata": {},
   "outputs": [],
   "source": [
    "Y1=down_town_merged.groupby('1st Most Common Venue').count()\n",
    "x1=Y1['Neighborhood']\n",
    "x1"
   ]
  },
  {
   "cell_type": "code",
   "execution_count": null,
   "id": "8971b876-6ec6-48d4-aa39-cb8694eb5a80",
   "metadata": {},
   "outputs": [],
   "source": [
    "Y2=down_town_merged.groupby('2nd Most Common Venue').count()\n",
    "x2=Y2['Neighborhood']\n",
    "x2"
   ]
  },
  {
   "cell_type": "code",
   "execution_count": null,
   "id": "ae8a1a98-480a-458e-a7db-f89f56d1d52d",
   "metadata": {},
   "outputs": [],
   "source": [
    "Y3=down_town_merged.groupby('3rd Most Common Venue').count()\n",
    "x3=Y3['Neighborhood']\n",
    "x3"
   ]
  },
  {
   "cell_type": "code",
   "execution_count": null,
   "id": "9f7ce15b-3323-45fb-94cf-46d54234b85d",
   "metadata": {},
   "outputs": [],
   "source": [
    "Y4=down_town_merged.groupby('4th Most Common Venue').count()\n",
    "x4=Y4['Neighborhood']\n",
    "x4"
   ]
  },
  {
   "cell_type": "code",
   "execution_count": null,
   "id": "274bb1b3-2238-464d-bc23-6035f37df73e",
   "metadata": {},
   "outputs": [],
   "source": [
    "Z1=X1.groupby('Borough').count()\n",
    "x1=Z1['Cluster Labels']\n",
    "x1"
   ]
  },
  {
   "cell_type": "code",
   "execution_count": null,
   "id": "7f1da7a0-c826-40aa-81d5-265bdea6c0de",
   "metadata": {},
   "outputs": [],
   "source": [
    "Z2=X2.groupby('Borough').count()\n",
    "x2=Z2['Cluster Labels']\n",
    "x2"
   ]
  },
  {
   "cell_type": "code",
   "execution_count": null,
   "id": "0eec194a-f1e3-4821-b358-4fbaa1d7d5dd",
   "metadata": {},
   "outputs": [],
   "source": [
    "Z3=X3.groupby('Borough').count()\n",
    "x3=Z3['Cluster Labels']\n",
    "x3"
   ]
  },
  {
   "cell_type": "code",
   "execution_count": null,
   "id": "dbb063ce-a47e-4ca9-b900-f5aab70f97aa",
   "metadata": {},
   "outputs": [],
   "source": [
    "Z4=X4.groupby('Borough').count()\n",
    "x4=Z4['Cluster Labels']\n",
    "x4"
   ]
  },
  {
   "cell_type": "code",
   "execution_count": null,
   "id": "9cd2b8ee-0316-4e52-a136-a13bf339a783",
   "metadata": {},
   "outputs": [],
   "source": [
    "path='/resources/1_Capstone/wellbeing_toronto.csv'\n",
    "toronto_population=pd.read_csv(path)\n",
    "toronto_population.head()"
   ]
  },
  {
   "cell_type": "code",
   "execution_count": null,
   "id": "935a5b85-ce99-4905-8ab2-c3b4ece8cd49",
   "metadata": {},
   "outputs": [],
   "source": [
    "M=down_town_merged['Neighborhood'].tolist()\n",
    "N=toronto_population['Neighbourhood'].tolist()"
   ]
  },
  {
   "cell_type": "code",
   "execution_count": null,
   "id": "e0d54133-04dc-46f2-92ad-cc0ddc5435fc",
   "metadata": {},
   "outputs": [],
   "source": [
    "for i in N:\n",
    "    if i in M:\n",
    "        print(i)"
   ]
  },
  {
   "cell_type": "code",
   "execution_count": null,
   "id": "a907e93d-5155-4ed7-a604-e9e1d55d36d2",
   "metadata": {},
   "outputs": [],
   "source": [
    "s=1\n",
    "t=[]\n",
    "for i in N:\n",
    "    z=i.split()\n",
    "    m=len(z)\n",
    "    j= z[-1]\n",
    "    if any(j in word for word in M):\n",
    "        t.append(j)\n",
    "        print(s)\n",
    "        s=s+1"
   ]
  },
  {
   "cell_type": "code",
   "execution_count": null,
   "id": "c1288448-b7a2-4dcf-90d6-b1a18e46c58b",
   "metadata": {},
   "outputs": [],
   "source": [
    "t"
   ]
  },
  {
   "cell_type": "code",
   "execution_count": null,
   "id": "3e5abba7-c5b3-4499-b7c8-12cfb0923ffe",
   "metadata": {},
   "outputs": [],
   "source": [
    "s=1\n",
    "t=[]\n",
    "for i in N:\n",
    "    if any(i in word for word in M):\n",
    "        t.append(i)\n",
    "        print(s)\n",
    "        s=s+1"
   ]
  },
  {
   "cell_type": "code",
   "execution_count": null,
   "id": "23a00820-1a07-4ac4-a70c-79e1980af254",
   "metadata": {},
   "outputs": [],
   "source": []
  },
  {
   "cell_type": "markdown",
   "id": "adf0d203-ea3d-482d-837d-6351efd83e2b",
   "metadata": {},
   "source": [
    "# END"
   ]
  }
 ],
 "metadata": {
  "kernelspec": {
   "display_name": "Python",
   "language": "python",
   "name": "conda-env-python-py"
  },
  "language_info": {
   "codemirror_mode": {
    "name": "ipython",
    "version": 3
   },
   "file_extension": ".py",
   "mimetype": "text/x-python",
   "name": "python",
   "nbconvert_exporter": "python",
   "pygments_lexer": "ipython3",
   "version": "3.6.13"
  }
 },
 "nbformat": 4,
 "nbformat_minor": 5
}
